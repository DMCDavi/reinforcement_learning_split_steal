{
 "cells": [
  {
   "attachments": {},
   "cell_type": "markdown",
   "metadata": {},
   "source": [
    "# Aprendizagem por Reforço para o Jogo \"Split or Steal\" "
   ]
  },
  {
   "attachments": {},
   "cell_type": "markdown",
   "metadata": {},
   "source": [
    "O jogo consiste em duas pessoas competindo entre si por uma quantia de dinheiro. Cada jogador pode escolher entre duas ações: dividir (split) ou roubar (steal). Caso os dois jogadores decidam dividir, a quantia é dividida igualmente; caso um roube e o outro divida, toda a quantia vai para quem roubou; caso os dois escolham roubar, ninguém ganha nada."
   ]
  },
  {
   "attachments": {},
   "cell_type": "markdown",
   "metadata": {},
   "source": [
    "Sendo assim, criamos um agente que utiliza aprendizagem por reforço (RL) para tentar ganhar a maior quantia de dinheiro possível. O algoritmo segue os seguintes passos:\n",
    "1. Lê um arquivo .txt que contém a política do agente, ela contém uma tabela com todas as combinações entre as \"features\" do jogo, são elas: o karma do oponente, o karma do nosso agente, a última ação do oponente e a quantidade de rodadas que faltam. Para cada combinação, a política define qual ação deve ser tomada.\n",
    "2. Cada linha da política tem uma chance percentual de ser alterada aleatoriamente (explore).\n",
    "3. O jogo é iniciado e são feitas inúmeras rodadas com diferentes oponentes.\n",
    "4. O agente calcula sua recompensa após cada partida da seguinte forma: +2 caso ele ganhe toda quantia, +1 caso ele ganhe metade, 0 caso ninguém ganhe nada e -1 caso ele seja roubado.\n",
    "5. Ao final de cada partida é verificado se a soma das recompensas é maior que a última melhor pontuação, caso seja, a política é substituída."
   ]
  },
  {
   "attachments": {},
   "cell_type": "markdown",
   "metadata": {},
   "source": [
    "Foram criados 3 arquivos principais:\n",
    "* Log_SplitOrSteal: escreve todas as informações de todas as partidas em um arquivo .txt\n",
    "* Train_SplitOrSteal: treina o agente em múltiplas rodadas com diferentes tipos de oponentes e escreve o resultado de cada rodada em um arquivo .txt\n",
    "* SplitOrSteal: roda o jogo com toda a interface visual do pygame"
   ]
  }
 ],
 "metadata": {
  "kernelspec": {
   "display_name": "split_or_steal",
   "language": "python",
   "name": "python3"
  },
  "language_info": {
   "codemirror_mode": {
    "name": "ipython",
    "version": 3
   },
   "file_extension": ".py",
   "mimetype": "text/x-python",
   "name": "python",
   "nbconvert_exporter": "python",
   "pygments_lexer": "ipython3",
   "version": "3.8.16"
  },
  "orig_nbformat": 4
 },
 "nbformat": 4,
 "nbformat_minor": 2
}
